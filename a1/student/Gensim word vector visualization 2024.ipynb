{
 "cells": [
  {
   "cell_type": "markdown",
   "metadata": {},
   "source": [
    "# Gensim word vector visualization of various word vectors"
   ]
  },
  {
   "cell_type": "code",
   "execution_count": 1,
   "metadata": {},
   "outputs": [],
   "source": [
    "import numpy as np\n",
    "\n",
    "# Get the interactive Tools for Matplotlib\n",
    "# %matplotlib notebook\n",
    "%matplotlib inline\n",
    "import matplotlib.pyplot as plt\n",
    "plt.style.use('ggplot')\n",
    "\n",
    "from sklearn.decomposition import PCA\n",
    "\n",
    "import gensim.downloader as api\n",
    "from gensim.models import KeyedVectors"
   ]
  },
  {
   "cell_type": "markdown",
   "metadata": {},
   "source": [
    "For looking at word vectors, I'll use Gensim. We also use it in hw1 for word vectors. Gensim isn't really a deep learning package. It's a package for word and text similarity modeling, which started with (LDA-style) topic models and grew into SVD and neural word representations. But its efficient and scalable, and quite widely used."
   ]
  },
  {
   "cell_type": "markdown",
   "metadata": {},
   "source": [
    "I'll use our homegrown Stanford offering of GloVe word vectors. Gensim provides a library of several sets of word vectors that you can easily load. You can find out more about GloVe on [the Glove page](https://nlp.stanford.edu/projects/glove/). I use the 100d vectors below as a balance between speed and smallness vs. quality. If you try out the 50d vectors, they basically work for similarity but clearly aren't as good for analogy problems. If you load the 300d vectors, you'll wait longer, but they're even better than the 100d vectors."
   ]
  },
  {
   "cell_type": "code",
   "execution_count": 2,
   "metadata": {},
   "outputs": [],
   "source": [
    "# from gensim.scripts.glove2word2vec import glove2word2vec\n",
    "# glove_input = \"/home/jia/Downloads/glove.6B/glove.6B.300d.txt\"\n",
    "# word2vec_output = \"/home/jia/Downloads/glove.6B/glove.6B.300d.word2vec.txt\"\n",
    "# glove2word2vec(glove_input, word2vec_output)"
   ]
  },
  {
   "cell_type": "code",
   "execution_count": 3,
   "metadata": {},
   "outputs": [
    {
     "name": "stdout",
     "output_type": "stream",
     "text": [
      "<class 'gensim.models.keyedvectors.KeyedVectors'>\n"
     ]
    }
   ],
   "source": [
    "# model = api.load(\"glove-wiki-gigaword-100\")\n",
    "\n",
    "word2vec_output = '/home/jia/Downloads/glove.6B/glove.6B.300d.word2vec.txt'\n",
    "model = KeyedVectors.load_word2vec_format(word2vec_output, binary=False)\n",
    "print(type(model))"
   ]
  },
  {
   "cell_type": "code",
   "execution_count": 4,
   "metadata": {
    "scrolled": true
   },
   "outputs": [
    {
     "data": {
      "text/plain": [
       "array([ 0.42445  ,  0.44214  ,  0.37833  , -0.069403 , -0.073338 ,\n",
       "       -0.081135 , -0.05778  ,  0.16375  , -0.099045 , -0.81689  ,\n",
       "       -0.43912  , -0.49712  , -0.50495  ,  0.7461   ,  0.3235   ,\n",
       "       -0.69495  , -0.1999   ,  0.085718 ,  0.10033  ,  0.059362 ,\n",
       "       -0.043522 ,  0.050225 , -0.22728  , -0.049659 ,  0.52579  ,\n",
       "       -0.13038  ,  0.11082  , -0.0057026, -0.40167  , -0.3036   ,\n",
       "       -0.35504  ,  0.56465  , -0.42691  ,  0.095305 , -0.89807  ,\n",
       "        0.17838  , -0.029647 , -0.12109  , -0.13524  ,  0.40596  ,\n",
       "        0.15597  , -0.84324  ,  0.51727  , -0.16569  , -0.11147  ,\n",
       "        0.077322 ,  0.26823  ,  0.057215 , -0.14571  ,  0.23168  ,\n",
       "        0.91794  ,  0.1811   ,  0.44626  ,  0.84291  , -0.31894  ,\n",
       "       -0.2061   , -0.30366  ,  0.004545 ,  0.030833 ,  0.17034  ,\n",
       "        0.31111  ,  0.12178  ,  0.10801  ,  0.079893 , -0.6787   ,\n",
       "        0.084787 , -0.54224  ,  0.15838  , -0.31336  ,  0.12879  ,\n",
       "        0.61677  , -0.053287 , -0.38343  , -0.23622  ,  0.0044497,\n",
       "        0.15173  ,  0.51785  , -0.1134   , -0.62595  ,  0.035095 ,\n",
       "        0.12547  ,  0.55694  ,  0.0516   ,  0.084038 , -0.084851 ,\n",
       "       -0.44193  , -0.46435  ,  0.36741  , -0.18654  ,  0.35828  ,\n",
       "        0.22893  , -0.79797  ,  0.10891  ,  0.06156  , -0.24384  ,\n",
       "       -0.25632  ,  0.66075  ,  0.5229   , -0.36168  ,  0.64644  ,\n",
       "        0.19634  ,  0.12448  , -0.036928 , -0.90867  , -0.2809   ,\n",
       "       -0.10382  ,  0.071498 ,  0.38807  , -0.83083  ,  0.12252  ,\n",
       "        0.43179  ,  0.6598   ,  0.045086 , -0.65377  , -0.39691  ,\n",
       "       -0.087969 , -0.47148  ,  0.35059  ,  0.7041   , -0.095982 ,\n",
       "       -0.27671  , -0.29434  ,  0.49031  ,  0.35662  ,  0.027702 ,\n",
       "       -0.28642  ,  0.31566  ,  0.52438  , -0.26317  ,  0.82059  ,\n",
       "        0.079012 ,  0.47513  ,  0.33365  ,  0.80164  ,  0.02697  ,\n",
       "       -0.33415  , -0.11803  ,  0.79641  , -0.16587  ,  0.35163  ,\n",
       "        0.70061  ,  0.3594   , -0.59517  , -0.12043  , -0.2431   ,\n",
       "        0.49752  , -0.56054  , -0.13813  ,  0.37624  , -0.36406  ,\n",
       "       -0.6373   ,  0.47533  ,  0.6436   , -0.18634  , -0.57421  ,\n",
       "        0.16739  , -0.017222 , -0.55154  , -0.091627 ,  0.016359 ,\n",
       "        0.0061148,  0.03225  , -0.30872  ,  0.23839  , -0.65339  ,\n",
       "        0.31146  , -0.24672  , -0.27882  ,  0.29894  , -0.53132  ,\n",
       "       -0.38324  ,  0.089359 , -0.55348  ,  0.21007  , -0.66274  ,\n",
       "        0.32096  , -0.29175  , -0.14105  ,  0.28332  , -0.36122  ,\n",
       "        0.36751  ,  0.3396   , -0.17525  , -0.60833  ,  0.10298  ,\n",
       "        0.076038 ,  0.75504  ,  0.21259  ,  0.09432  ,  0.16234  ,\n",
       "        0.099649 ,  1.3594   , -0.13559  , -0.31186  , -0.12121  ,\n",
       "       -0.076561 , -0.67664  , -0.87163  ,  0.069186 ,  0.23584  ,\n",
       "        0.35178  , -0.58653  ,  1.0506   ,  0.71578  , -0.051279 ,\n",
       "       -0.72173  ,  0.55031  , -0.18321  , -0.32433  , -0.19722  ,\n",
       "       -0.2113   ,  0.083221 , -0.20574  , -0.14087  , -0.20222  ,\n",
       "        0.11095  ,  0.49119  , -0.52435  , -0.022425 ,  0.031873 ,\n",
       "        0.51452  ,  0.61741  , -0.13014  , -0.24343  , -0.35477  ,\n",
       "       -0.67115  ,  0.24245  ,  0.20685  ,  0.58625  ,  0.0068439,\n",
       "        0.15637  ,  0.041758 , -0.38749  ,  0.11132  ,  0.88754  ,\n",
       "        0.78523  , -0.070434 ,  0.11205  , -0.94238  , -0.10418  ,\n",
       "       -0.47953  , -0.041931 , -0.20347  , -0.47242  , -0.70558  ,\n",
       "       -0.18668  , -0.14411  ,  0.41065  ,  0.11432  , -0.92061  ,\n",
       "        0.73638  , -0.03184  ,  0.15837  ,  0.26361  ,  0.45361  ,\n",
       "        0.81415  , -0.51708  , -0.26918  ,  0.52441  ,  0.5451   ,\n",
       "        0.083457 , -0.45577  , -0.17756  , -0.7336   ,  0.69229  ,\n",
       "       -0.39894  , -0.41863  ,  0.057051 ,  0.25049  ,  0.13108  ,\n",
       "       -0.73782  ,  0.45018  ,  0.11531  ,  0.76584  ,  0.34869  ,\n",
       "        0.015328 , -1.1598   , -0.22353  , -0.93814  , -0.5111   ,\n",
       "        0.072843 , -0.30214  , -0.16632  , -0.31374  ,  0.059688 ,\n",
       "        0.65073  ,  0.92893  , -0.60864  ,  0.28643  ,  0.54603  ,\n",
       "       -0.14123  , -0.34933  ,  0.27734  ,  0.30589  , -0.0049341,\n",
       "       -0.1702   , -0.43026  ,  0.023264 , -0.26448  ,  0.4634   ],\n",
       "      dtype=float32)"
      ]
     },
     "execution_count": 4,
     "metadata": {},
     "output_type": "execute_result"
    }
   ],
   "source": [
    "model['bread']"
   ]
  },
  {
   "cell_type": "code",
   "execution_count": 5,
   "metadata": {},
   "outputs": [
    {
     "data": {
      "text/plain": [
       "array([ 6.2413e-01,  2.3175e-02,  8.9691e-02,  1.0652e-01, -2.0159e-01,\n",
       "        1.2857e-01,  3.6291e-01, -6.9018e-01, -3.3965e-01,  2.0832e-01,\n",
       "       -1.5173e-01, -1.0514e-01, -4.7687e-01, -1.1231e-01, -4.7100e-01,\n",
       "       -9.2807e-02,  1.8103e-01, -2.4176e-01, -2.0960e-01,  3.6195e-01,\n",
       "        6.7968e-02,  4.4313e-01, -3.1275e-01, -7.4449e-03,  3.1996e-04,\n",
       "       -2.1016e-02,  3.4211e-01,  2.7163e-03,  7.2581e-01, -9.5318e-02,\n",
       "        1.8115e-01, -4.6783e-01,  5.2100e-03,  4.6143e-02,  4.4550e-01,\n",
       "        2.5552e-01, -3.4298e-01,  1.1777e-01, -4.3287e-01,  4.5380e-02,\n",
       "       -2.4952e-03,  5.1222e-01,  4.3946e-01, -1.3227e-01,  2.5923e-01,\n",
       "        2.8955e-02,  1.1018e+00, -5.4847e-02,  1.3028e-01, -3.6312e-02,\n",
       "        3.1070e-01,  6.0720e-02,  7.5523e-01,  1.0790e-01,  3.8481e-01,\n",
       "        4.3716e-02,  6.0888e-02,  4.0668e-01, -1.8425e-01,  1.2845e-02,\n",
       "       -2.1517e-01, -2.0177e-01, -1.0162e+00, -1.5201e-01, -1.0461e-02,\n",
       "        2.2242e-01, -8.6899e-02, -2.4085e-01, -3.1132e-01,  1.7176e-01,\n",
       "        2.7609e-01, -4.2016e-02,  2.4550e-01,  5.7538e-03, -1.1485e-01,\n",
       "        3.0464e-01, -2.5853e-01, -4.1030e-02, -5.9130e-01, -4.7350e-01,\n",
       "       -1.4042e-01,  8.9166e-02,  8.8126e-02, -2.2838e-01, -6.8208e-01,\n",
       "       -1.2702e-01,  2.3437e-01,  1.0983e-01, -4.2302e-01, -3.1866e-01,\n",
       "       -4.3106e-01, -6.8243e-01,  2.3006e-02, -1.9600e-01, -2.3687e-01,\n",
       "       -6.2959e-02,  3.4038e-01,  2.8301e-02, -4.9758e-01,  6.5728e-01,\n",
       "       -1.6534e-01,  4.8715e-01,  1.7178e-01, -2.7832e-01, -3.1137e-01,\n",
       "       -1.1966e-01, -5.3657e-01, -3.4407e-01, -1.5290e-01, -1.6055e-02,\n",
       "       -3.8659e-03,  4.2226e-01,  1.3901e-01, -1.7323e-02,  1.4148e-01,\n",
       "       -1.7833e-01, -4.3089e-01, -8.8946e-02,  5.0235e-01, -1.7740e-01,\n",
       "        3.4665e-01, -5.9647e-01,  2.9781e-01, -1.0803e-01, -5.0535e-01,\n",
       "       -8.4509e-02,  1.1199e-02,  4.5056e-01,  3.1075e-01, -4.8680e-02,\n",
       "       -5.5977e-01,  3.1991e-01, -2.4871e-01,  2.6026e-01, -1.6555e-01,\n",
       "       -5.2443e-01, -4.8716e-02,  5.4756e-01, -1.8839e-01, -2.7349e-02,\n",
       "       -1.9662e-01, -9.4840e-02, -1.3385e-01,  1.5935e-01,  1.5102e-01,\n",
       "       -4.6039e-01, -4.7390e-01, -1.0596e+00,  4.2633e-01,  7.7289e-02,\n",
       "       -5.7366e-01,  3.0168e-01,  2.7166e-01,  2.5107e-01, -4.0493e-01,\n",
       "       -1.3738e-01, -5.2909e-01, -3.4460e-01,  3.4122e-01,  4.4993e-01,\n",
       "       -2.9305e-01, -2.1051e-01, -2.0467e-01,  2.3545e-02, -3.1606e-01,\n",
       "        1.5200e-01, -4.7933e-02, -3.1010e-01,  3.2123e-01, -1.9420e-01,\n",
       "       -2.5556e-02,  3.0122e-01, -1.6118e-01, -3.0358e-01, -1.5647e-02,\n",
       "       -1.0735e-01, -5.9041e-01,  2.2052e-01,  4.7177e-01, -7.3097e-01,\n",
       "       -7.9726e-02,  3.9743e-01, -3.0348e-01, -1.0728e+00,  4.1671e-02,\n",
       "       -3.5686e-01,  6.4812e-01,  3.1902e-01, -3.7766e-02,  1.4018e-01,\n",
       "        6.6502e-01,  2.3667e-01,  5.2675e-01, -4.5879e-01, -4.3622e-01,\n",
       "        1.6864e-01, -4.5482e-01, -2.3159e-01, -1.5218e-01,  1.1639e-01,\n",
       "       -6.9548e-01, -4.3637e-01,  7.8473e-01,  3.2550e-02,  2.5765e-01,\n",
       "       -4.3922e-01,  2.5852e-01, -5.4448e-02, -6.4395e-01, -5.0077e-01,\n",
       "       -3.9404e-03, -5.3177e-01,  1.7483e-01, -1.1096e-01,  1.7594e-01,\n",
       "        4.7842e-02,  9.2369e-03, -6.2065e-01,  1.5569e-01,  5.2474e-03,\n",
       "       -1.4444e-01,  2.9557e-01,  1.6351e-01,  4.5910e-01, -3.9394e-01,\n",
       "       -1.5809e-01,  9.3748e-02,  2.5563e-01,  1.9506e-01,  2.7192e-01,\n",
       "        3.4618e-01, -1.2897e-01, -2.6302e-01,  2.2423e-01,  4.5817e-01,\n",
       "        3.6775e-01,  1.5329e-01,  4.3677e-02, -7.5896e-02,  1.7271e-02,\n",
       "        4.6783e-01, -4.0852e-01,  6.5007e-02, -6.3594e-02,  1.8166e-01,\n",
       "       -1.6878e-01, -3.9356e-01, -1.3985e-01,  4.0338e-01, -6.7683e-01,\n",
       "        2.6488e-01,  1.7516e-01,  5.6013e-01,  6.4705e-01, -1.3543e-01,\n",
       "        5.9670e-01,  5.4053e-01, -6.5430e-02,  5.0433e-01,  2.4919e-01,\n",
       "        3.8474e-01,  1.7034e-01, -1.3397e-01,  2.1241e-01,  2.1824e-01,\n",
       "       -6.3765e-02, -4.2393e-01,  3.0047e-01,  3.2349e-02, -3.8218e-01,\n",
       "       -2.1993e-01,  2.5509e-01, -2.4383e-01,  2.7711e-01,  2.9729e-02,\n",
       "        2.9941e-02,  1.0207e+00,  1.1965e-01, -5.0869e-01, -1.2615e-01,\n",
       "       -8.0424e-03,  2.0671e-01,  2.4021e-01, -2.5850e-01,  6.3742e-01,\n",
       "        2.0980e-01,  3.8574e-01, -4.6795e-01, -4.4380e-02,  1.6431e-01,\n",
       "       -2.4919e-01, -1.5229e-01,  3.7729e-01,  2.1706e-01, -2.3384e-02,\n",
       "       -9.4392e-01,  1.2152e-01,  1.1533e-01,  4.1423e-02,  4.6485e-01],\n",
       "      dtype=float32)"
      ]
     },
     "execution_count": 5,
     "metadata": {},
     "output_type": "execute_result"
    }
   ],
   "source": [
    "model['croissant']"
   ]
  },
  {
   "cell_type": "code",
   "execution_count": 6,
   "metadata": {},
   "outputs": [
    {
     "data": {
      "text/plain": [
       "[('u.s.a.', 0.5414650440216064),\n",
       " ('united', 0.49127644300460815),\n",
       " ('states', 0.4846649765968323),\n",
       " ('america', 0.45113030076026917),\n",
       " ('inc', 0.41656193137168884),\n",
       " ('inc.', 0.40956562757492065),\n",
       " ('2010', 0.40459689497947693),\n",
       " ('x2', 0.39059048891067505),\n",
       " ('espn', 0.38786137104034424),\n",
       " ('canada', 0.3860737383365631)]"
      ]
     },
     "execution_count": 6,
     "metadata": {},
     "output_type": "execute_result"
    }
   ],
   "source": [
    "model.most_similar('usa')"
   ]
  },
  {
   "cell_type": "code",
   "execution_count": 7,
   "metadata": {
    "scrolled": true
   },
   "outputs": [
    {
     "data": {
      "text/plain": [
       "[('bananas', 0.6691170930862427),\n",
       " ('mango', 0.5804104208946228),\n",
       " ('pineapple', 0.5492372512817383),\n",
       " ('coconut', 0.5462778806686401),\n",
       " ('papaya', 0.541056752204895),\n",
       " ('fruit', 0.52181077003479),\n",
       " ('growers', 0.4877638816833496),\n",
       " ('nut', 0.48399588465690613),\n",
       " ('peanut', 0.48062023520469666),\n",
       " ('potato', 0.48061180114746094)]"
      ]
     },
     "execution_count": 7,
     "metadata": {},
     "output_type": "execute_result"
    }
   ],
   "source": [
    "model.most_similar('banana')"
   ]
  },
  {
   "cell_type": "code",
   "execution_count": 8,
   "metadata": {},
   "outputs": [
    {
     "data": {
      "text/plain": [
       "[('croissants', 0.5564220547676086),\n",
       " ('brioche', 0.4930887818336487),\n",
       " ('muffins', 0.45515531301498413),\n",
       " ('focaccia', 0.44012370705604553),\n",
       " ('gruyere', 0.4369955062866211),\n",
       " ('bagel', 0.43625184893608093),\n",
       " ('beignets', 0.4310298562049866),\n",
       " ('hazelnut', 0.43054449558258057),\n",
       " ('scones', 0.4241448640823364),\n",
       " ('muffin', 0.41624417901039124)]"
      ]
     },
     "execution_count": 8,
     "metadata": {},
     "output_type": "execute_result"
    }
   ],
   "source": [
    "model.most_similar('croissant')"
   ]
  },
  {
   "cell_type": "code",
   "execution_count": 9,
   "metadata": {},
   "outputs": [
    {
     "data": {
      "text/plain": [
       "[('kasson', 0.30769410729408264),\n",
       " ('boling', 0.3042016923427582),\n",
       " ('hazmi', 0.2930523157119751),\n",
       " ('fadli', 0.2912213206291199),\n",
       " ('bhatnagar', 0.29037898778915405),\n",
       " ('patner', 0.28239113092422485),\n",
       " ('nessler', 0.2814348042011261),\n",
       " ('kj/mol', 0.2788812518119812),\n",
       " ('mphasis', 0.2779490649700165),\n",
       " ('pattanaik', 0.2779349088668823)]"
      ]
     },
     "execution_count": 9,
     "metadata": {},
     "output_type": "execute_result"
    }
   ],
   "source": [
    "model.most_similar(negative='banana')"
   ]
  },
  {
   "cell_type": "code",
   "execution_count": 10,
   "metadata": {},
   "outputs": [
    {
     "data": {
      "text/plain": [
       "[('mayrhuber', 0.2646040618419647),\n",
       " ('euroyen', 0.2645606994628906),\n",
       " ('ghadzali', 0.26185885071754456),\n",
       " ('hardliner', 0.2578054368495941),\n",
       " ('kirshenbaum', 0.2572685182094574),\n",
       " ('fishback', 0.25708499550819397),\n",
       " (\"mo'aweya\", 0.2560013234615326),\n",
       " ('gumelar', 0.25160837173461914),\n",
       " ('imed', 0.25080251693725586),\n",
       " ('streich', 0.248379185795784)]"
      ]
     },
     "execution_count": 10,
     "metadata": {},
     "output_type": "execute_result"
    }
   ],
   "source": [
    "model.most_similar(negative='frog')"
   ]
  },
  {
   "cell_type": "code",
   "execution_count": 11,
   "metadata": {},
   "outputs": [
    {
     "name": "stdout",
     "output_type": "stream",
     "text": [
      "queen: 0.6713\n"
     ]
    }
   ],
   "source": [
    "result = model.most_similar(positive=['woman', 'king'], negative=['man'])\n",
    "print(\"{}: {:.4f}\".format(*result[0]))"
   ]
  },
  {
   "cell_type": "code",
   "execution_count": 12,
   "metadata": {},
   "outputs": [],
   "source": [
    "# x1 : x2 :: y1 :: returned\n",
    "def analogy(x1, x2, y1):\n",
    "    result = model.most_similar(positive=[y1, x2], negative=[x1])\n",
    "    return result[0][0]"
   ]
  },
  {
   "cell_type": "markdown",
   "metadata": {},
   "source": [
    "![Analogy](imgs/word2vec-king-queen-composition.png)"
   ]
  },
  {
   "cell_type": "code",
   "execution_count": 13,
   "metadata": {},
   "outputs": [
    {
     "data": {
      "text/plain": [
       "'queen'"
      ]
     },
     "execution_count": 13,
     "metadata": {},
     "output_type": "execute_result"
    }
   ],
   "source": [
    "analogy('man', 'king', 'woman')"
   ]
  },
  {
   "cell_type": "code",
   "execution_count": 14,
   "metadata": {},
   "outputs": [
    {
     "data": {
      "text/plain": [
       "'champagne'"
      ]
     },
     "execution_count": 14,
     "metadata": {},
     "output_type": "execute_result"
    }
   ],
   "source": [
    "analogy('australia', 'beer', 'france')"
   ]
  },
  {
   "cell_type": "code",
   "execution_count": 15,
   "metadata": {},
   "outputs": [
    {
     "data": {
      "text/plain": [
       "'cameras'"
      ]
     },
     "execution_count": 15,
     "metadata": {},
     "output_type": "execute_result"
    }
   ],
   "source": [
    "analogy('pencil', 'sketching', 'camera')"
   ]
  },
  {
   "cell_type": "code",
   "execution_count": 16,
   "metadata": {},
   "outputs": [
    {
     "data": {
      "text/plain": [
       "'ronald'"
      ]
     },
     "execution_count": 16,
     "metadata": {},
     "output_type": "execute_result"
    }
   ],
   "source": [
    "analogy('obama', 'clinton', 'reagan')"
   ]
  },
  {
   "cell_type": "code",
   "execution_count": 17,
   "metadata": {},
   "outputs": [
    {
     "data": {
      "text/plain": [
       "'longest'"
      ]
     },
     "execution_count": 17,
     "metadata": {},
     "output_type": "execute_result"
    }
   ],
   "source": [
    "analogy('tall', 'tallest', 'long')"
   ]
  },
  {
   "cell_type": "code",
   "execution_count": null,
   "metadata": {},
   "outputs": [],
   "source": []
  },
  {
   "cell_type": "code",
   "execution_count": null,
   "metadata": {},
   "outputs": [],
   "source": []
  },
  {
   "cell_type": "code",
   "execution_count": 18,
   "metadata": {
    "scrolled": true
   },
   "outputs": [
    {
     "name": "stdout",
     "output_type": "stream",
     "text": [
      "cereal\n"
     ]
    }
   ],
   "source": [
    "print(model.doesnt_match(\"breakfast cereal dinner lunch\".split()))"
   ]
  },
  {
   "cell_type": "code",
   "execution_count": 19,
   "metadata": {},
   "outputs": [],
   "source": [
    "def display_pca_scatterplot(model, words=None, sample=0):\n",
    "    if words == None:\n",
    "        if sample > 0:\n",
    "            words = np.random.choice(list(model.vocab.keys()), sample)\n",
    "        else:\n",
    "            words = [ word for word in model.vocab ]\n",
    "        \n",
    "    word_vectors = np.array([model[w] for w in words])\n",
    "\n",
    "    twodim = PCA().fit_transform(word_vectors)[:,:2]\n",
    "    \n",
    "    plt.figure(figsize=(6,6))\n",
    "    plt.scatter(twodim[:,0], twodim[:,1], edgecolors='k', c='r')\n",
    "    for word, (x,y) in zip(words, twodim):\n",
    "        plt.annotate(word, (x, y), xytext=(x+0.05, y+0.05))"
   ]
  },
  {
   "cell_type": "code",
   "execution_count": 20,
   "metadata": {
    "scrolled": true
   },
   "outputs": [
    {
     "data": {
      "image/png": "[encoded data removed]",
      "text/plain": [
       "<Figure size 600x600 with 1 Axes>"
      ]
     },
     "metadata": {},
     "output_type": "display_data"
    }
   ],
   "source": [
    "display_pca_scatterplot(model, \n",
    "    ['coffee', 'tea', 'beer', 'wine', 'brandy', 'rum', 'champagne', 'water',\n",
    "        'spaghetti', 'borscht', 'hamburger', 'pizza', 'falafel', 'sushi', 'meatballs',\n",
    "        'dog', 'horse', 'cat', 'monkey', 'parrot', 'koala', 'lizard',\n",
    "        'frog', 'toad', 'monkey', 'ape', 'kangaroo', 'wombat', 'wolf',\n",
    "        'france', 'germany', 'hungary', 'luxembourg', 'australia', 'china', 'iran',\n",
    "        'homework', 'assignment', 'problem', 'exam', 'test', 'class',\n",
    "        'school', 'college', 'university', 'institute'])"
   ]
  },
  {
   "cell_type": "code",
   "execution_count": 21,
   "metadata": {},
   "outputs": [
    {
     "data": {
      "text/html": [
       "<div>\n",
       "<style scoped>\n",
       "    .dataframe tbody tr th:only-of-type {\n",
       "        vertical-align: middle;\n",
       "    }\n",
       "\n",
       "    .dataframe tbody tr th {\n",
       "        vertical-align: top;\n",
       "    }\n",
       "\n",
       "    .dataframe thead th {\n",
       "        text-align: right;\n",
       "    }\n",
       "</style>\n",
       "<table border=\"1\" class=\"dataframe\">\n",
       "  <thead>\n",
       "    <tr style=\"text-align: right;\">\n",
       "      <th></th>\n",
       "      <th>Word 1</th>\n",
       "      <th>Word 2</th>\n",
       "      <th>Human (mean)</th>\n",
       "    </tr>\n",
       "  </thead>\n",
       "  <tbody>\n",
       "    <tr>\n",
       "      <th>0</th>\n",
       "      <td>love</td>\n",
       "      <td>sex</td>\n",
       "      <td>6.77</td>\n",
       "    </tr>\n",
       "    <tr>\n",
       "      <th>1</th>\n",
       "      <td>tiger</td>\n",
       "      <td>cat</td>\n",
       "      <td>7.35</td>\n",
       "    </tr>\n",
       "    <tr>\n",
       "      <th>2</th>\n",
       "      <td>tiger</td>\n",
       "      <td>tiger</td>\n",
       "      <td>10.00</td>\n",
       "    </tr>\n",
       "  </tbody>\n",
       "</table>\n",
       "</div>"
      ],
      "text/plain": [
       "  Word 1 Word 2  Human (mean)\n",
       "0   love    sex          6.77\n",
       "1  tiger    cat          7.35\n",
       "2  tiger  tiger         10.00"
      ]
     },
     "execution_count": 21,
     "metadata": {},
     "output_type": "execute_result"
    }
   ],
   "source": [
    "import pandas as pd\n",
    "df = pd.read_csv(\"wordsim353/combined.csv\", header=0)\n",
    "df.head(3)"
   ]
  },
  {
   "cell_type": "code",
   "execution_count": 22,
   "metadata": {},
   "outputs": [],
   "source": [
    "def cosine_similarity(vec1, vec2):\n",
    "    \"\"\"计算余弦相似度\"\"\"\n",
    "    return np.dot(vec1, vec2) / (np.linalg.norm(vec1) * np.linalg.norm(vec2))"
   ]
  },
  {
   "cell_type": "code",
   "execution_count": 23,
   "metadata": {},
   "outputs": [
    {
     "name": "stdout",
     "output_type": "stream",
     "text": [
      "有效样本数: 353/353\n",
      "缺失词对示例: []\n"
     ]
    }
   ],
   "source": [
    "# 存储模型预测相似度\n",
    "model_scores = []\n",
    "human_scores = []\n",
    "missing_words = []\n",
    "for index, row in df.iterrows():\n",
    "    word1 = row['Word 1'].lower()  # 统一转小写\n",
    "    word2 = row['Word 2'].lower()\n",
    "    \n",
    "    # 检查词是否存在\n",
    "    if word1 in model.key_to_index and word2 in model.key_to_index:\n",
    "        vec1 = model[word1]\n",
    "        vec2 = model[word2]\n",
    "        sim = cosine_similarity(vec1, vec2)\n",
    "        model_scores.append(sim)\n",
    "        human_scores.append(row['Human (mean)'])\n",
    "    else:\n",
    "        missing_words.append((word1, word2))\n",
    "print(f\"有效样本数: {len(model_scores)}/{len(df)}\")\n",
    "print(f\"缺失词对示例: {missing_words[:5]}\")"
   ]
  },
  {
   "cell_type": "code",
   "execution_count": 24,
   "metadata": {},
   "outputs": [],
   "source": [
    "from scipy.stats import spearmanr\n",
    "assert len(model_scores) == len(human_scores)"
   ]
  },
  {
   "cell_type": "code",
   "execution_count": 25,
   "metadata": {},
   "outputs": [
    {
     "name": "stdout",
     "output_type": "stream",
     "text": [
      "Spearman相关系数: 0.609\n",
      "P值: 3.87963e-37\n"
     ]
    }
   ],
   "source": [
    "corr, p_value = spearmanr(human_scores, model_scores)\n",
    "print(f\"Spearman相关系数: {corr:.3f}\")\n",
    "print(f\"P值: {p_value:.5e}\")"
   ]
  },
  {
   "cell_type": "code",
   "execution_count": null,
   "metadata": {},
   "outputs": [],
   "source": []
  },
  {
   "cell_type": "code",
   "execution_count": null,
   "metadata": {},
   "outputs": [],
   "source": []
  },
  {
   "cell_type": "code",
   "execution_count": null,
   "metadata": {},
   "outputs": [],
   "source": []
  }
 ],
 "metadata": {
  "kernelspec": {
   "display_name": "Python 3 (ipykernel)",
   "language": "python",
   "name": "python3"
  },
  "language_info": {
   "codemirror_mode": {
    "name": "ipython",
    "version": 3
   },
   "file_extension": ".py",
   "mimetype": "text/x-python",
   "name": "python",
   "nbconvert_exporter": "python",
   "pygments_lexer": "ipython3",
   "version": "3.10.15"
  }
 },
 "nbformat": 4,
 "nbformat_minor": 4
}
